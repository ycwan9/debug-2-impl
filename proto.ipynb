{
 "cells": [
  {
   "cell_type": "code",
   "execution_count": 9,
   "id": "b206093e-4772-4529-894a-423355d2c4eb",
   "metadata": {},
   "outputs": [],
   "source": [
    "import sys\n",
    "import lldb\n",
    "import json\n",
    "import os\n",
    "import logging"
   ]
  },
  {
   "cell_type": "code",
   "execution_count": 26,
   "id": "394da07f-2054-415a-ac3c-aae383ef87ae",
   "metadata": {},
   "outputs": [
    {
     "data": {
      "text/plain": [
       "'systemArch64'"
      ]
     },
     "execution_count": 26,
     "metadata": {},
     "output_type": "execute_result"
    }
   ],
   "source": [
    "lldb.LLDB_ARCH_DEFAULT"
   ]
  },
  {
   "cell_type": "code",
   "execution_count": 28,
   "id": "022a9f96-d433-4d84-b1cc-d2d63a0bcfae",
   "metadata": {},
   "outputs": [],
   "source": [
    "debugger = lldb.SBDebugger.Create()\n",
    "debugger.SetAsync(False)\n",
    "target = debugger.CreateTargetWithFileAndArch(\"a.out\", \"x86_64\")\n",
    "if not target:\n",
    "    raise Exception(\"invalid target\")\n",
    "assert target.IsValid()\n",
    "\n",
    "# b main\n",
    "bp = target.BreakpointCreateByName(\"main\", target.GetExecutable().GetFilename())\n",
    "if not bp:\n",
    "    raise Exception(\"fail to break at main\")\n"
   ]
  },
  {
   "cell_type": "code",
   "execution_count": 41,
   "id": "b571ef99-0d5f-4137-8c7a-45b2b526f5af",
   "metadata": {},
   "outputs": [
    {
     "ename": "TypeError",
     "evalue": "Wrong number or type of arguments for overloaded function 'SBTarget_Launch'.\n  Possible C/C++ prototypes are:\n    lldb::SBTarget::Launch(lldb::SBListener &,char const **,char const **,char const *,char const *,char const *,char const *,uint32_t,bool,lldb::SBError &)\n    lldb::SBTarget::Launch(lldb::SBLaunchInfo &,lldb::SBError &)\n",
     "output_type": "error",
     "traceback": [
      "\u001b[0;31m---------------------------------------------------------------------------\u001b[0m",
      "\u001b[0;31mTypeError\u001b[0m                                 Traceback (most recent call last)",
      "\u001b[0;32m<ipython-input-41-e4d6a171032e>\u001b[0m in \u001b[0;36m<module>\u001b[0;34m\u001b[0m\n\u001b[0;32m----> 1\u001b[0;31m \u001b[0mprocess\u001b[0m \u001b[0;34m=\u001b[0m \u001b[0mtarget\u001b[0m\u001b[0;34m.\u001b[0m\u001b[0mLaunch\u001b[0m\u001b[0;34m(\u001b[0m\u001b[0;32mNone\u001b[0m\u001b[0;34m,\u001b[0m \u001b[0;32mNone\u001b[0m\u001b[0;34m,\u001b[0m \u001b[0;32mNone\u001b[0m\u001b[0;34m,\u001b[0m \u001b[0;32mNone\u001b[0m\u001b[0;34m,\u001b[0m \u001b[0;32mNone\u001b[0m\u001b[0;34m,\u001b[0m \u001b[0;32mNone\u001b[0m\u001b[0;34m,\u001b[0m \u001b[0;36m0\u001b[0m\u001b[0;34m,\u001b[0m \u001b[0;32mFalse\u001b[0m\u001b[0;34m,\u001b[0m \u001b[0;32mNone\u001b[0m\u001b[0;34m)\u001b[0m\u001b[0;34m\u001b[0m\u001b[0;34m\u001b[0m\u001b[0m\n\u001b[0m",
      "\u001b[0;32m/usr/lib/python3/dist-packages/lldb/__init__.py\u001b[0m in \u001b[0;36mLaunch\u001b[0;34m(self, *args)\u001b[0m\n\u001b[1;32m  10135\u001b[0m             \u001b[0mrun\u001b[0m \u001b[0mto\u001b[0m \u001b[0mcompletion\u001b[0m \u001b[0;32mif\u001b[0m \u001b[0mno\u001b[0m \u001b[0muser\u001b[0m \u001b[0minteraction\u001b[0m \u001b[0;32mis\u001b[0m \u001b[0mrequired\u001b[0m\u001b[0;34m.\u001b[0m\u001b[0;34m\u001b[0m\u001b[0;34m\u001b[0m\u001b[0m\n\u001b[1;32m  10136\u001b[0m         \"\"\"\n\u001b[0;32m> 10137\u001b[0;31m         \u001b[0;32mreturn\u001b[0m \u001b[0m_lldb\u001b[0m\u001b[0;34m.\u001b[0m\u001b[0mSBTarget_Launch\u001b[0m\u001b[0;34m(\u001b[0m\u001b[0mself\u001b[0m\u001b[0;34m,\u001b[0m \u001b[0;34m*\u001b[0m\u001b[0margs\u001b[0m\u001b[0;34m)\u001b[0m\u001b[0;34m\u001b[0m\u001b[0;34m\u001b[0m\u001b[0m\n\u001b[0m\u001b[1;32m  10138\u001b[0m \u001b[0;34m\u001b[0m\u001b[0m\n\u001b[1;32m  10139\u001b[0m     \u001b[0;32mdef\u001b[0m \u001b[0mLoadCore\u001b[0m\u001b[0;34m(\u001b[0m\u001b[0mself\u001b[0m\u001b[0;34m,\u001b[0m \u001b[0;34m*\u001b[0m\u001b[0margs\u001b[0m\u001b[0;34m)\u001b[0m\u001b[0;34m:\u001b[0m\u001b[0;34m\u001b[0m\u001b[0;34m\u001b[0m\u001b[0m\n",
      "\u001b[0;31mTypeError\u001b[0m: Wrong number or type of arguments for overloaded function 'SBTarget_Launch'.\n  Possible C/C++ prototypes are:\n    lldb::SBTarget::Launch(lldb::SBListener &,char const **,char const **,char const *,char const *,char const *,char const *,uint32_t,bool,lldb::SBError &)\n    lldb::SBTarget::Launch(lldb::SBLaunchInfo &,lldb::SBError &)\n"
     ]
    }
   ],
   "source": [
    "process = target.Launch(None, None, None, None, None, None, 0, False, None)"
   ]
  },
  {
   "cell_type": "code",
   "execution_count": 36,
   "id": "569eb9bf-b84a-44d7-a7cb-9904c7d4e4d0",
   "metadata": {},
   "outputs": [],
   "source": [
    "process = target.LaunchSimple([], None, os.getcwd())"
   ]
  },
  {
   "cell_type": "code",
   "execution_count": 31,
   "id": "5d6c622a-8ace-4249-b193-23147aabccac",
   "metadata": {},
   "outputs": [
    {
     "data": {
      "text/plain": [
       "4"
      ]
     },
     "execution_count": 31,
     "metadata": {},
     "output_type": "execute_result"
    }
   ],
   "source": [
    "process.GetState()"
   ]
  },
  {
   "cell_type": "code",
   "execution_count": 27,
   "id": "a5f714ef-dd5d-4930-b17d-81a5c6210c8d",
   "metadata": {},
   "outputs": [
    {
     "data": {
      "text/plain": [
       "0"
      ]
     },
     "execution_count": 27,
     "metadata": {},
     "output_type": "execute_result"
    }
   ],
   "source": [
    "process.id"
   ]
  },
  {
   "cell_type": "code",
   "execution_count": 13,
   "id": "dab8ae01-96cb-4db5-a1fb-0eee36012296",
   "metadata": {},
   "outputs": [],
   "source": [
    "t = process.GetThreadAtIndex(0)"
   ]
  },
  {
   "cell_type": "code",
   "execution_count": 23,
   "id": "0c2ee69d-2d54-49a1-b2a8-236d9d6c4688",
   "metadata": {},
   "outputs": [],
   "source": [
    "t.StepInto()"
   ]
  },
  {
   "cell_type": "code",
   "execution_count": 24,
   "id": "b66b3bc9-81fe-44d1-998b-0b511550eac6",
   "metadata": {},
   "outputs": [
    {
     "data": {
      "text/plain": [
       "0"
      ]
     },
     "execution_count": 24,
     "metadata": {},
     "output_type": "execute_result"
    }
   ],
   "source": [
    "t.GetFrameAtIndex(0).GetLineEntry().GetLine()"
   ]
  },
  {
   "cell_type": "code",
   "execution_count": null,
   "id": "74e84a61-7ea6-4082-992c-bb1226a662f0",
   "metadata": {},
   "outputs": [],
   "source": []
  }
 ],
 "metadata": {
  "kernelspec": {
   "display_name": "System Python 3",
   "language": "python",
   "name": "system-py3"
  },
  "language_info": {
   "codemirror_mode": {
    "name": "ipython",
    "version": 3
   },
   "file_extension": ".py",
   "mimetype": "text/x-python",
   "name": "python",
   "nbconvert_exporter": "python",
   "pygments_lexer": "ipython3",
   "version": "3.8.10"
  }
 },
 "nbformat": 4,
 "nbformat_minor": 5
}
